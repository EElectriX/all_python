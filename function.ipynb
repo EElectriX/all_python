{
 "cells": [
  {
   "cell_type": "markdown",
   "metadata": {},
   "source": [
    "## Python decorator\n",
    "\n",
    "A Python decorator is a powerful tool that allows you to modify the behavior of a function or method. Decorators are functions that wrap another function to extend or alter its behavior without modifying the original function’s code. ( It's use to encance a function.)"
   ]
  },
  {
   "cell_type": "code",
   "execution_count": 1,
   "metadata": {},
   "outputs": [
    {
     "name": "stdout",
     "output_type": "stream",
     "text": [
      "Something is happening before the function is called.\n",
      "Hello!\n",
      "Something is happening after the function is called.\n"
     ]
    }
   ],
   "source": [
    "#This is the actual code that runs when you use the @my_decorator syntax.\n",
    "def my_decorator(func):\n",
    "    def wrapper():\n",
    "        print(\"Something is happening before the function is called.\")\n",
    "        func()\n",
    "        print(\"Something is happening after the function is called.\")\n",
    "    return wrapper\n",
    "\n",
    "@my_decorator \n",
    "def say_hello():\n",
    "    print(\"Hello!\")\n",
    "\n",
    "say_hello()\n"
   ]
  },
  {
   "cell_type": "markdown",
   "metadata": {},
   "source": [
    "### Explanation:\n",
    "`my_decorator`: This is the decorator function. It takes a function func as an argument and returns a new function `wrapper`.\n",
    "\n",
    "`wrapper` function: This function does something before and after calling `func().` This allows you to add behavior before and after the original function runs.\n",
    "\n",
    "`@my_decorator`: This syntax is a shorthand to apply `my_decorator` to the say_hello function. It is equivalent to writing` say_hello = my_decorator(say_hello)`."
   ]
  },
  {
   "cell_type": "code",
   "execution_count": 3,
   "metadata": {},
   "outputs": [
    {
     "name": "stdout",
     "output_type": "stream",
     "text": [
      "Something is happening before the function is called.\n",
      "Hello!\n",
      "Something is happening after the function is called.\n"
     ]
    }
   ],
   "source": [
    "def my_decorator(func):\n",
    "    def wrapper():\n",
    "        print(\"Something is happening before the function is called.\")\n",
    "        func()\n",
    "        print(\"Something is happening after the function is called.\")\n",
    "    return wrapper\n",
    "def say_hello():\n",
    "    print(\"Hello!\")\n",
    "\n",
    "    \n",
    "calling = my_decorator(say_hello)  # func=say_hello\n",
    "calling()"
   ]
  },
  {
   "cell_type": "markdown",
   "metadata": {},
   "source": [
    "first `my_decorator` get called . In `my_decorator` it does't run `wrepper` it directly return `wrapper` to `calling`. When `calling` get called `wrapper` function runs.  \n",
    "\n",
    "So , we need to call two function. `my_decorator` for outer and `calling` for inncer function .\n",
    "\n",
    "In this way we are actually encancing the `say_hello` function. (this is our main goal to use decorator)"
   ]
  },
  {
   "cell_type": "code",
   "execution_count": 8,
   "metadata": {},
   "outputs": [
    {
     "name": "stdout",
     "output_type": "stream",
     "text": [
      "Something is happening before the function is called.\n",
      "Hello!\n",
      "Something is happening after the function is called.\n"
     ]
    }
   ],
   "source": [
    "def my_decorator(func): #enhancing function with additional functionality paremiter \n",
    "    def wrapper():     \n",
    "        print(\"Something is happening before the function is called.\")\n",
    "        func()\n",
    "        print(\"Something is happening after the function is called.\")\n",
    "    return wrapper\n",
    "@my_decorator  #by using @my_decorator we are calling the function my_decorator and passing the function say_hello as a parameter(wghich is just below the @my_decorator)\n",
    "def say_hello():\n",
    "    print(\"Hello!\")\n",
    "\n",
    "\n",
    "    \n",
    "# calling = my_decorator(say_hello)\n",
    "calling()"
   ]
  },
  {
   "cell_type": "markdown",
   "metadata": {},
   "source": [
    "`say_hello = my_decorator(say_hello)` this line can be replaced by `@my_decorator`.\n",
    "`say_hello` is the actual function and `my_decorator` is the function to inhance. "
   ]
  },
  {
   "cell_type": "markdown",
   "metadata": {},
   "source": [
    "## 2. Passing two different data in a single parameter. \n"
   ]
  },
  {
   "cell_type": "code",
   "execution_count": 6,
   "metadata": {},
   "outputs": [
    {
     "name": "stdout",
     "output_type": "stream",
     "text": [
      "Hello, chai !\n"
     ]
    }
   ],
   "source": [
    "def greet(name = \"User\"):  #deafult value of the parameter is User\n",
    "    return \"Hello, \" + name + \" !\"\n",
    "\n",
    "\n",
    "print(greet(\"chai\")) #if we pass the parameter then it will take the parameter value otherwise it will take the default value\n"
   ]
  },
  {
   "cell_type": "markdown",
   "metadata": {},
   "source": [
    "## 3. Lambda function \n",
    "A lambda function in Python is a small, anonymous function that is defined using the `lambda` keyword. Unlike regular functions defined with the `def` keyword, lambda functions are limited to a single expression and do not have a name (hence \"anonymous\").\n",
    "\n",
    "`function_namw=lambda arguments: expression`\n",
    "`function_namw=lambda arg1,arg2: expression`\n"
   ]
  },
  {
   "cell_type": "code",
   "execution_count": 7,
   "metadata": {},
   "outputs": [
    {
     "name": "stdout",
     "output_type": "stream",
     "text": [
      "8\n"
     ]
    }
   ],
   "source": [
    "add = lambda x, y: x + y\n",
    "print(add(3, 5))  # Output: 8\n",
    "\n"
   ]
  },
  {
   "cell_type": "markdown",
   "metadata": {},
   "source": [
    "## 4. *args"
   ]
  },
  {
   "cell_type": "code",
   "execution_count": 13,
   "metadata": {},
   "outputs": [
    {
     "name": "stdout",
     "output_type": "stream",
     "text": [
      "1 2\n",
      "(1, 2)\n",
      "2\n",
      "4\n",
      "3\n",
      "1 2 3 4 5\n",
      "(1, 2, 3, 4, 5)\n",
      "2\n",
      "4\n",
      "6\n",
      "8\n",
      "10\n",
      "15\n",
      "1 2 3 4 5 6 7 8\n",
      "(1, 2, 3, 4, 5, 6, 7, 8)\n",
      "2\n",
      "4\n",
      "6\n",
      "8\n",
      "10\n",
      "12\n",
      "14\n",
      "16\n",
      "36\n"
     ]
    }
   ],
   "source": [
    "def sum_all(*args):\n",
    "    print(*args) #*args is used to pass a variable number of arguments to a function\n",
    "    print(args) #args is a tuple that contains all the arguments passed to the function\n",
    "    for i in args:\n",
    "        print(i*2)\n",
    "    return sum(args)\n",
    "     # sum() is an inbuilt function in python that adds all the elements in the list and returns the sum\n",
    "    \n",
    "\n",
    "print(sum_all(1, 2))\n",
    "print(sum_all(1, 2, 3, 4, 5))\n",
    "print(sum_all(1, 2, 3, 4, 5, 6, 7, 8))"
   ]
  },
  {
   "cell_type": "markdown",
   "metadata": {},
   "source": [
    "### Key Points:\n",
    "`*args` allows you to pass a variable number of positional arguments.\n",
    "\n",
    "Inside the function, `args` is treated as a tuple.\n",
    "\n",
    "It’s commonly used when the number of inputs is unknown or flexible."
   ]
  },
  {
   "cell_type": "code",
   "execution_count": 17,
   "metadata": {},
   "outputs": [
    {
     "name": "stdout",
     "output_type": "stream",
     "text": [
      "Hello, Alice!\n",
      "Hello, Bob!\n",
      "Hello, Charlie!\n"
     ]
    }
   ],
   "source": [
    "def greet(greeting, *names):\n",
    "    for name in names:\n",
    "        print(f\"{greeting}, {name}!\")\n",
    "\n",
    "greet(\"Hello\", \"Alice\", \"Bob\", \"Charlie\")\n",
    "# Output:\n",
    "# Hello, Alice!\n",
    "# Hello, Bob!\n",
    "# Hello, Charlie!\n"
   ]
  },
  {
   "cell_type": "markdown",
   "metadata": {},
   "source": [
    "greet: This is the name of the function.\n",
    "\n",
    "greeting: This is a regular positional argument. When calling the function, the first argument provided will be assigned to this parameter.\n",
    "\n",
    "*names: This allows the function to accept a variable number of additional positional arguments. These arguments are packed into a tuple named names."
   ]
  },
  {
   "cell_type": "markdown",
   "metadata": {},
   "source": [
    "## 5. **kwargs\n"
   ]
  },
  {
   "cell_type": "code",
   "execution_count": 15,
   "metadata": {},
   "outputs": [
    {
     "name": "stdout",
     "output_type": "stream",
     "text": [
      "name: Alice\n",
      "age: 30\n",
      "city: New York\n",
      "name: Bob\n",
      "age: 25\n",
      "city: San Francisco\n",
      "email: nothing\n"
     ]
    }
   ],
   "source": [
    "def print_info(**kwargs):\n",
    "    for key, value in kwargs.items():\n",
    "        print(f\"{key}: {value}\")\n",
    "\n",
    "print_info(name=\"Alice\", age=30, city=\"New York\")\n",
    "print_info(name=\"Bob\", age=25, city=\"San Francisco\", email=\"nothing\")\n",
    "# Output:\n",
    "# name: Alice\n",
    "# age: 30\n",
    "# city: New York\n"
   ]
  },
  {
   "cell_type": "markdown",
   "metadata": {},
   "source": [
    "### Key Points:\n",
    "`**kwargs` allows you to pass a variable number of keyword arguments.\n",
    "\n",
    "Inside the function, `kwargs` is treated as a dictionary.\n",
    "\n",
    "It’s commonly used when you want to handle named arguments that you do not know beforehand."
   ]
  },
  {
   "cell_type": "code",
   "execution_count": 16,
   "metadata": {},
   "outputs": [
    {
     "name": "stdout",
     "output_type": "stream",
     "text": [
      "Pet Name: Buddy\n",
      "Species: Dog\n",
      "Age: 5\n",
      "Color: Brown\n"
     ]
    }
   ],
   "source": [
    "def describe_pet(pet_name, **kwargs):\n",
    "    print(f\"Pet Name: {pet_name}\")\n",
    "    for key, value in kwargs.items():\n",
    "        print(f\"{key.capitalize()}: {value}\")\n",
    "\n",
    "describe_pet(\"Buddy\", species=\"Dog\", age=5, color=\"Brown\")\n",
    "# Output:\n",
    "# Pet Name: Buddy\n",
    "# Species: Dog\n",
    "# Age: 5\n",
    "# Color: Brown\n"
   ]
  },
  {
   "cell_type": "markdown",
   "metadata": {},
   "source": [
    "describe_pet: This is the name of the function.\n",
    "\n",
    "pet_name: This is a regular positional argument. When calling the function, the first argument provided will be assigned to this parameter.\n",
    "\n",
    "**kwargs: This allows the function to accept any number of additional keyword arguments. These keyword arguments are passed as key-value pairs and are stored in a dictionary named kwargs."
   ]
  },
  {
   "cell_type": "markdown",
   "metadata": {},
   "source": [
    "## 6.range() function"
   ]
  },
  {
   "cell_type": "markdown",
   "metadata": {},
   "source": [
    "`range(starting,ending,step)`"
   ]
  },
  {
   "cell_type": "markdown",
   "metadata": {},
   "source": [
    "## 7. yield"
   ]
  },
  {
   "cell_type": "code",
   "execution_count": 19,
   "metadata": {},
   "outputs": [
    {
     "name": "stdout",
     "output_type": "stream",
     "text": [
      "1\n",
      "2\n",
      "3\n",
      "4\n",
      "5\n"
     ]
    }
   ],
   "source": [
    "def count_up_to(max):\n",
    "    count = 1\n",
    "    while count <= max:\n",
    "        yield count\n",
    "        count += 1\n",
    "counter = count_up_to(5)\n",
    "\n",
    "# Iterate through the generator\n",
    "for number in counter:\n",
    "    print(number)\n"
   ]
  },
  {
   "cell_type": "markdown",
   "metadata": {},
   "source": [
    "This function, count_up_to, takes one argument max and yields numbers starting from 1 up to max.\n",
    "\n",
    "The yield statement returns the current value of count and pauses the function, saving its state so it can continue from the same point later.\n",
    "\n",
    "The function then increments count and, upon the next call, continues from where it left off."
   ]
  },
  {
   "cell_type": "code",
   "execution_count": 20,
   "metadata": {},
   "outputs": [
    {
     "name": "stdout",
     "output_type": "stream",
     "text": [
      "2\n",
      "4\n",
      "6\n",
      "8\n",
      "10\n"
     ]
    }
   ],
   "source": [
    "def even_generator(limit):\n",
    "    for i in range(2, limit + 1, 2):\n",
    "        yield i\n",
    "\n",
    "\n",
    "\n",
    "for num in even_generator(10):\n",
    "    print(num)"
   ]
  },
  {
   "cell_type": "markdown",
   "metadata": {},
   "source": [
    "## 8.Filter\n"
   ]
  },
  {
   "cell_type": "markdown",
   "metadata": {},
   "source": [
    "The filter() function is used to filter elements from an iterable (such as a list, tuple, or string) based on a condition specified by a function. The function is applied to each element in the iterable, and only those elements for which the function returns True are included in the result.\n",
    "\n",
    "`filter(function, iterable)`\n"
   ]
  },
  {
   "cell_type": "code",
   "execution_count": 22,
   "metadata": {},
   "outputs": [
    {
     "name": "stdout",
     "output_type": "stream",
     "text": [
      "[2, 4, 6, 8, 10]\n"
     ]
    }
   ],
   "source": [
    "def is_even(n):\n",
    "    return n % 2 == 0\n",
    "\n",
    "numbers = [1, 2, 3, 4, 5, 6, 7, 8, 9, 10]\n",
    "even_numbers = filter(is_even, numbers)\n",
    "\n",
    "print(list(even_numbers))  # Output: [2, 4, 6, 8, 10]\n"
   ]
  },
  {
   "cell_type": "markdown",
   "metadata": {},
   "source": [
    "`is_even` function: This function checks if a number is even by testing whether it is divisible by 2.\n",
    "\n",
    "`filter(is_even, numbers)`: This applies the `is_even` function to each element of the numbers list. Only the numbers for which `is_even` returns True are included in the result.\n",
    "\n",
    "`list(even_numbers)`: The result of `filter()` is an iterator, so converting it to a list makes it easier to view and use the filtered elements."
   ]
  },
  {
   "cell_type": "code",
   "execution_count": 21,
   "metadata": {},
   "outputs": [
    {
     "name": "stdout",
     "output_type": "stream",
     "text": [
      "[2, 4, 6, 8, 10]\n"
     ]
    }
   ],
   "source": [
    "numbers = [1, 2, 3, 4, 5, 6, 7, 8, 9, 10]\n",
    "even_numbers = filter(lambda x: x % 2 == 0, numbers)\n",
    "\n",
    "print(list(even_numbers))  # Output: [2, 4, 6, 8, 10]\n"
   ]
  },
  {
   "cell_type": "markdown",
   "metadata": {},
   "source": [
    "Here, the lambda function `lambda x: x % 2 == 0` does the same job as the `is_even` function in the previous example."
   ]
  },
  {
   "cell_type": "markdown",
   "metadata": {},
   "source": [
    "## 9. Reduce"
   ]
  },
  {
   "cell_type": "markdown",
   "metadata": {},
   "source": [
    "In Python, the `reduce()` function is used to apply a binary function (a function that takes two arguments) cumulatively to the items of an iterable (such as a list), reducing the iterable to a single value. This function is part of the `functools` module."
   ]
  },
  {
   "cell_type": "code",
   "execution_count": null,
   "metadata": {},
   "outputs": [],
   "source": [
    "from functools import reduce\n",
    "\n",
    "reduce(function, iterable, initializer)\n"
   ]
  },
  {
   "cell_type": "markdown",
   "metadata": {},
   "source": [
    "`function`: A function that takes two arguments. This function is applied cumulatively to the elements of the iterable.\n",
    "\n",
    "`iterable`: The iterable (e.g., list, tuple) whose elements are to be reduced.\n",
    "\n",
    "`initializer` (optional): An initial value that is placed before the items of the iterable in the calculation, and serves as a default when the iterable is empty."
   ]
  },
  {
   "cell_type": "code",
   "execution_count": 23,
   "metadata": {},
   "outputs": [
    {
     "name": "stdout",
     "output_type": "stream",
     "text": [
      "15\n"
     ]
    }
   ],
   "source": [
    "from functools import reduce\n",
    "\n",
    "def add(x, y):\n",
    "    return x + y\n",
    "\n",
    "numbers = [1, 2, 3, 4, 5]\n",
    "result = reduce(add, numbers)\n",
    "print(result)  # Output: 15\n"
   ]
  },
  {
   "cell_type": "markdown",
   "metadata": {},
   "source": [
    "`add(x, y)`: This function takes two arguments and returns their sum.\n",
    "\n",
    "`reduce(add, numbers)`: This applies the add function to the first two elements (1 and 2), producing 3. Then it applies add to 3 and the next element (3), producing 6, and so on, until it reduces the entire list to the sum 15.\n"
   ]
  },
  {
   "cell_type": "code",
   "execution_count": 26,
   "metadata": {},
   "outputs": [
    {
     "name": "stdout",
     "output_type": "stream",
     "text": [
      "25\n"
     ]
    }
   ],
   "source": [
    "from functools import reduce\n",
    "numbers=[1,2,3,4,5]\n",
    "result=reduce(lambda a,b:a+b,numbers,10)\n",
    "print(result)"
   ]
  },
  {
   "cell_type": "markdown",
   "metadata": {},
   "source": [
    "### Explanation:\n",
    "\n",
    "Here, the initializer is 10, so the reduction starts with 10, and the final result is 10 + 1 + 2 + 3 + 4 + 5 = 25."
   ]
  },
  {
   "cell_type": "markdown",
   "metadata": {},
   "source": [
    "## 10. Map"
   ]
  },
  {
   "cell_type": "markdown",
   "metadata": {},
   "source": [
    "`map(function, iterable)`\n"
   ]
  },
  {
   "cell_type": "code",
   "execution_count": 27,
   "metadata": {},
   "outputs": [
    {
     "name": "stdout",
     "output_type": "stream",
     "text": [
      "[1, 4, 9, 16, 25]\n"
     ]
    }
   ],
   "source": [
    "def square(x):\n",
    "    return x ** 2\n",
    "\n",
    "numbers = [1, 2, 3, 4, 5]\n",
    "squared_numbers = map(square, numbers)\n",
    "\n",
    "# Convert map object to a list to see the results\n",
    "print(list(squared_numbers))  # Output: [1, 4, 9, 16, 25]\n"
   ]
  },
  {
   "cell_type": "markdown",
   "metadata": {},
   "source": [
    "## Explanation\n",
    "`square(x)`: This function returns the square of `x`.\n",
    "\n",
    "`map(square, numbers)`: This applies the `square` function to each element in the numbers list.\n",
    "\n",
    "`list(squared_numbers)`: The `map()` function returns a map object, which is an iterator. Converting it to a list allows us to see the results."
   ]
  },
  {
   "cell_type": "code",
   "execution_count": 28,
   "metadata": {},
   "outputs": [
    {
     "name": "stdout",
     "output_type": "stream",
     "text": [
      "[1, 4, 9, 16, 25]\n"
     ]
    }
   ],
   "source": [
    "numbers = [1, 2, 3, 4, 5]\n",
    "squared_numbers = map(lambda x: x ** 2, numbers)\n",
    "\n",
    "print(list(squared_numbers))  # Output: [1, 4, 9, 16, 25]\n"
   ]
  },
  {
   "cell_type": "code",
   "execution_count": null,
   "metadata": {},
   "outputs": [],
   "source": [
    "numbers1 = [1, 2, 3]\n",
    "numbers2 = [4, 5, 6]\n",
    "summed_numbers = map(lambda x, y: x + y, numbers1, numbers2)\n",
    "\n",
    "print(list(summed_numbers))  # Output: [5, 7, 9]\n"
   ]
  },
  {
   "cell_type": "markdown",
   "metadata": {},
   "source": [
    "The lambda function takes two arguments (x and y) and returns their sum.\n",
    "\n",
    "map() applies this function to the corresponding elements of numbers1 and numbers2."
   ]
  }
 ],
 "metadata": {
  "kernelspec": {
   "display_name": "Python 3",
   "language": "python",
   "name": "python3"
  },
  "language_info": {
   "codemirror_mode": {
    "name": "ipython",
    "version": 3
   },
   "file_extension": ".py",
   "mimetype": "text/x-python",
   "name": "python",
   "nbconvert_exporter": "python",
   "pygments_lexer": "ipython3",
   "version": "3.12.4"
  }
 },
 "nbformat": 4,
 "nbformat_minor": 2
}
