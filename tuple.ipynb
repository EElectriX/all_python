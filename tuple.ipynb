{
 "cells": [
  {
   "cell_type": "markdown",
   "metadata": {},
   "source": [
    "## Important Tuple Methods\n",
    "Tuples are immutable sequences in Python, meaning they cannot be modified after creation. As a result, tuples have fewer methods compared to lists. Here are some key tuple methods and operations:\n",
    "\n",
    "1. `tuple.count(x)`\n",
    "Returns the number of occurrences of the element x in the tuple."
   ]
  },
  {
   "cell_type": "code",
   "execution_count": null,
   "metadata": {},
   "outputs": [],
   "source": [
    "t = (1, 2, 2, 3)\n",
    "print(t.count(2))  # Output: 2\n"
   ]
  },
  {
   "cell_type": "markdown",
   "metadata": {},
   "source": [
    "2. `tuple.index(x, [start], [end])`\n",
    "Returns the index of the first occurrence of the element x in the tuple. You can specify optional start and end parameters to search within a subset of the tuple."
   ]
  },
  {
   "cell_type": "code",
   "execution_count": null,
   "metadata": {},
   "outputs": [],
   "source": [
    "t = (1, 2, 3, 2)\n",
    "print(t.index(2))  # Output: 1"
   ]
  },
  {
   "cell_type": "markdown",
   "metadata": {},
   "source": [
    "## Basic Tuple Slicing Syntax\n",
    "The basic slicing syntax is:"
   ]
  },
  {
   "cell_type": "markdown",
   "metadata": {},
   "source": [
    "`tuple[start:stop:step]` \n",
    "`start`: The starting index (inclusive). Defaults to 0 if omitted.\n",
    "`stop`: The stopping index (exclusive). If omitted, it goes until the end of the tuple.\n",
    "`step`: The step size or the interval between elements. Defaults to 1 if omitted."
   ]
  },
  {
   "cell_type": "markdown",
   "metadata": {},
   "source": [
    "### Examples of Tuple Slicing"
   ]
  },
  {
   "cell_type": "code",
   "execution_count": 2,
   "metadata": {},
   "outputs": [],
   "source": [
    "my_tuple = (0, 1, 2, 3, 4, 5, 6, 7, 8, 9)"
   ]
  },
  {
   "cell_type": "markdown",
   "metadata": {},
   "source": [
    "1.Slicing with Start and Stop\n",
    "Extract elements from index 2 to 5 (exclusive)"
   ]
  },
  {
   "cell_type": "code",
   "execution_count": 3,
   "metadata": {},
   "outputs": [
    {
     "name": "stdout",
     "output_type": "stream",
     "text": [
      "(2, 3, 4, 5)\n"
     ]
    }
   ],
   "source": [
    "slice1 = my_tuple[2:6]\n",
    "print(slice1)  # Output: (2, 3, 4, 5)\n"
   ]
  },
  {
   "cell_type": "markdown",
   "metadata": {},
   "source": [
    "2. Slicing with Default Start\n",
    "Extract elements from the beginning up to index 4 (exclusive)"
   ]
  },
  {
   "cell_type": "code",
   "execution_count": 4,
   "metadata": {},
   "outputs": [
    {
     "name": "stdout",
     "output_type": "stream",
     "text": [
      "(0, 1, 2, 3)\n"
     ]
    }
   ],
   "source": [
    "slice2 = my_tuple[:4]\n",
    "print(slice2)  # Output: (0, 1, 2, 3)\n"
   ]
  },
  {
   "cell_type": "markdown",
   "metadata": {},
   "source": [
    "3. Slicing with Default Stop\n",
    "Extract elements from index 5 to the end:"
   ]
  },
  {
   "cell_type": "code",
   "execution_count": null,
   "metadata": {},
   "outputs": [],
   "source": [
    "slice3 = my_tuple[5:]\n",
    "print(slice3)  # Output: (5, 6, 7, 8, 9)\n"
   ]
  },
  {
   "cell_type": "markdown",
   "metadata": {},
   "source": [
    "4. Slicing with Step\n",
    "Extract every second element from the tuple"
   ]
  },
  {
   "cell_type": "code",
   "execution_count": null,
   "metadata": {},
   "outputs": [],
   "source": [
    "slice4 = my_tuple[::2]\n",
    "print(slice4)  # Output: (0, 2, 4, 6, 8)"
   ]
  },
  {
   "cell_type": "markdown",
   "metadata": {},
   "source": [
    "5. `Slicing with Negative Indices`\n",
    "Extract elements from index -5 to -2 (exclusive)"
   ]
  },
  {
   "cell_type": "code",
   "execution_count": null,
   "metadata": {},
   "outputs": [],
   "source": [
    "slice5 = my_tuple[-5:-2]\n",
    "print(slice5)  # Output: (5, 6, 7)\n"
   ]
  },
  {
   "cell_type": "markdown",
   "metadata": {},
   "source": [
    "6. `Slicing with Negative Step`\n",
    "Reverse the tuple:"
   ]
  },
  {
   "cell_type": "code",
   "execution_count": null,
   "metadata": {},
   "outputs": [],
   "source": [
    "slice5 = my_tuple[-5:-2]\n",
    "print(slice5)  # Output: (5, 6, 7)\n"
   ]
  },
  {
   "cell_type": "markdown",
   "metadata": {},
   "source": [
    "Extract every second element in reverse order:"
   ]
  },
  {
   "cell_type": "code",
   "execution_count": 5,
   "metadata": {},
   "outputs": [
    {
     "name": "stdout",
     "output_type": "stream",
     "text": [
      "(9, 7, 5, 3, 1)\n"
     ]
    }
   ],
   "source": [
    "slice7 = my_tuple[::-2]\n",
    "print(slice7)  # Output: (9, 7, 5, 3, 1)\n"
   ]
  },
  {
   "cell_type": "markdown",
   "metadata": {},
   "source": [
    "7. `Slicing with Start, Stop, and Step`\n",
    "Extract elements from index 1 to 7 (exclusive) with a step of 2"
   ]
  },
  {
   "cell_type": "code",
   "execution_count": null,
   "metadata": {},
   "outputs": [],
   "source": [
    "slice8 = my_tuple[1:7:2]\n",
    "print(slice8)  # Output: (1, 3, 5)\n"
   ]
  },
  {
   "cell_type": "markdown",
   "metadata": {},
   "source": [
    "8. `Slicing to Create a Copy`\n",
    "Create a copy of the entire tuple"
   ]
  },
  {
   "cell_type": "code",
   "execution_count": null,
   "metadata": {},
   "outputs": [],
   "source": [
    "slice9 = my_tuple[:]\n",
    "print(slice9)  # Output: (0, 1, 2, 3, 4, 5, 6, 7, 8, 9)\n"
   ]
  },
  {
   "cell_type": "markdown",
   "metadata": {},
   "source": [
    "### Summary\n",
    "#### tuple[start:stop]: Extracts elements from `start` to `stop-1`.\n",
    "#### tuple[start:]: Extracts elements from `start` to the `end`.\n",
    "#### tuple[:stop]: Extracts elements from the beginning to `stop-1`.\n",
    "#### tuple[::step]: Extracts elements from the entire tuple with the specified `step`.\n",
    "#### tuple[::-1]: Reverses the tuple.\n",
    "#### Negative indices can be used to count from the end of the tuple backward."
   ]
  }
 ],
 "metadata": {
  "kernelspec": {
   "display_name": "Python 3",
   "language": "python",
   "name": "python3"
  },
  "language_info": {
   "codemirror_mode": {
    "name": "ipython",
    "version": 3
   },
   "file_extension": ".py",
   "mimetype": "text/x-python",
   "name": "python",
   "nbconvert_exporter": "python",
   "pygments_lexer": "ipython3",
   "version": "3.12.4"
  }
 },
 "nbformat": 4,
 "nbformat_minor": 2
}
