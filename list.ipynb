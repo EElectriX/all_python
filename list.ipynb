{
 "cells": [
  {
   "cell_type": "markdown",
   "metadata": {},
   "source": [
    "1. `list.append(x)`\n",
    "Adds an element x to the end of the list.\n"
   ]
  },
  {
   "cell_type": "code",
   "execution_count": null,
   "metadata": {},
   "outputs": [],
   "source": [
    "numbers = [1, 2, 3]\n",
    "numbers.append(4)\n",
    "print(numbers)  # Output: [1, 2, 3, 4]\n"
   ]
  },
  {
   "cell_type": "markdown",
   "metadata": {},
   "source": [
    "2. `list.extend(iterable)` Extends the list by appending all the elements from the given iterable (e.g., another list)."
   ]
  },
  {
   "cell_type": "code",
   "execution_count": null,
   "metadata": {},
   "outputs": [],
   "source": [
    "numbers = [1, 2, 3]\n",
    "numbers.extend([4, 5])\n",
    "print(numbers)  # Output: [1, 2, 3, 4, 5]\n"
   ]
  },
  {
   "cell_type": "markdown",
   "metadata": {},
   "source": [
    "3. `list.insert(i, x)`\n",
    "Inserts an element x at a specified index i. Shifts the elements to the right."
   ]
  },
  {
   "cell_type": "code",
   "execution_count": null,
   "metadata": {},
   "outputs": [],
   "source": [
    "numbers = [1, 2, 3]\n",
    "numbers.insert(1, 1.5)\n",
    "print(numbers)  # Output: [1, 1.5, 2, 3]\n"
   ]
  },
  {
   "cell_type": "markdown",
   "metadata": {},
   "source": [
    "4. `list.remove(x)`\n",
    "Removes the first occurrence of the element x from the list. Raises a ValueError if x is not found.\n"
   ]
  },
  {
   "cell_type": "code",
   "execution_count": null,
   "metadata": {},
   "outputs": [],
   "source": [
    "numbers = [1, 2, 3, 2]\n",
    "numbers.remove(2)\n",
    "print(numbers)  # Output: [1, 3, 2]\n"
   ]
  },
  {
   "cell_type": "markdown",
   "metadata": {},
   "source": [
    "5.`list.pop([i])`\n",
    "Removes and returns the element at the index i. If i is not provided, it removes and returns the last element.\n"
   ]
  },
  {
   "cell_type": "code",
   "execution_count": null,
   "metadata": {},
   "outputs": [],
   "source": [
    "numbers = [1, 2, 3]\n",
    "last = numbers.pop()\n",
    "print(last)      # Output: 3\n",
    "print(numbers)   # Output: [1, 2]\n"
   ]
  },
  {
   "cell_type": "markdown",
   "metadata": {},
   "source": [
    "6. `list.clear()`\n",
    "Removes all elements from the list."
   ]
  },
  {
   "cell_type": "code",
   "execution_count": null,
   "metadata": {},
   "outputs": [],
   "source": [
    "numbers = [1, 2, 3]\n",
    "numbers.clear()\n",
    "print(numbers)  # Output: []\n"
   ]
  },
  {
   "cell_type": "markdown",
   "metadata": {},
   "source": [
    "7. `list.index(x, [start], [end])`\n",
    "Returns the index of the first occurrence of the element x. Raises a ValueError if x is not found."
   ]
  },
  {
   "cell_type": "code",
   "execution_count": null,
   "metadata": {},
   "outputs": [],
   "source": [
    "numbers = [1, 2, 3, 2]\n",
    "idx = numbers.index(2)\n",
    "print(idx)  # Output: 1\n"
   ]
  },
  {
   "cell_type": "markdown",
   "metadata": {},
   "source": [
    "8. `list.count(x)`\n",
    "Returns the number of occurrences of the element x in the list."
   ]
  },
  {
   "cell_type": "code",
   "execution_count": null,
   "metadata": {},
   "outputs": [],
   "source": [
    "numbers = [1, 2, 2, 3, 2]\n",
    "count = numbers.count(2)\n",
    "print(count)  # Output: 3\n"
   ]
  },
  {
   "cell_type": "markdown",
   "metadata": {},
   "source": [
    "9. `list.sort(key=None, reverse=False)`\n",
    "Sorts the list in place. By default, it sorts in ascending order. You can use the key parameter to specify a function to execute to decide the order. Use reverse=True to sort in descending order."
   ]
  },
  {
   "cell_type": "code",
   "execution_count": null,
   "metadata": {},
   "outputs": [],
   "source": [
    "numbers = [3, 1, 2]\n",
    "numbers.sort()\n",
    "print(numbers)  # Output: [1, 2, 3]\n"
   ]
  },
  {
   "cell_type": "markdown",
   "metadata": {},
   "source": [
    "10. `list.reverse()`  Reverses the elements of the list in place."
   ]
  },
  {
   "cell_type": "code",
   "execution_count": null,
   "metadata": {},
   "outputs": [],
   "source": [
    "numbers = [1, 2, 3]\n",
    "numbers.reverse()\n",
    "print(numbers)  # Output: [3, 2, 1]"
   ]
  },
  {
   "cell_type": "markdown",
   "metadata": {},
   "source": [
    "11. `list.copy()`   Returns a shallow copy of the list."
   ]
  },
  {
   "cell_type": "code",
   "execution_count": 1,
   "metadata": {},
   "outputs": [
    {
     "name": "stdout",
     "output_type": "stream",
     "text": [
      "[1, 2, 3]\n"
     ]
    }
   ],
   "source": [
    "numbers = [1, 2, 3]\n",
    "new_numbers = numbers.copy()\n",
    "print(new_numbers)  # Output: [1, 2, 3]"
   ]
  },
  {
   "cell_type": "markdown",
   "metadata": {},
   "source": [
    "12. `list.sort(key=None, reverse=False)` Sorts the list in place (modifies the list itself). You can use the `key` argument to specify a function of one argument that is used to extract a comparison key from each list element."
   ]
  },
  {
   "cell_type": "code",
   "execution_count": null,
   "metadata": {},
   "outputs": [],
   "source": [
    "numbers = [3, 1, 4, 2]\n",
    "numbers.sort()\n",
    "print(numbers)  # Output: [1, 2, 3, 4]"
   ]
  },
  {
   "cell_type": "markdown",
   "metadata": {},
   "source": [
    "You can use the `key` parameter in the `list.sort()` method to specify a custom function that determines the sorting order based on some criteria. Here’s an example:\n",
    "\n",
    "<h4>Example: Sorting a List of Tuples by the Second Element</h4>\n",
    "Suppose you have a list of tuples where each tuple contains a name and an age. You want to sort the list based on age (the second element of each tuple)."
   ]
  },
  {
   "cell_type": "code",
   "execution_count": null,
   "metadata": {},
   "outputs": [],
   "source": [
    "# List of tuples (name, age)\n",
    "people = [(\"Alice\", 30), (\"Bob\", 25), (\"Charlie\", 35)]\n",
    "\n",
    "# Sort by the second element (age) using a lambda function as the key\n",
    "people.sort(key=lambda x: x[1])\n",
    "\n",
    "print(people)  \n",
    "# Output: [('Bob', 25), ('Alice', 30), ('Charlie', 35)]\n"
   ]
  },
  {
   "cell_type": "markdown",
   "metadata": {},
   "source": [
    "Explanation:\n",
    "`people.sort(key=lambda x: x[1]):` Here, `lambda x: x[1]` is a small anonymous function (lambda function) that takes each element `x `(which is a tuple) and returns` x[1]`, the second element (age).\n",
    "The list is then sorted based on this value, which is the age in this case.\n",
    "<h4>Example: Sorting a List of Strings by Length</h4>\n",
    "You can also sort a list of strings based on the length of each string:"
   ]
  },
  {
   "cell_type": "code",
   "execution_count": null,
   "metadata": {},
   "outputs": [],
   "source": [
    "# List of strings\n",
    "words = [\"apple\", \"banana\", \"cherry\", \"date\"]\n",
    "\n",
    "# Sort by the length of each string\n",
    "words.sort(key=len)\n",
    "\n",
    "print(words)  \n",
    "# Output: ['date', 'apple', 'cherry', 'banana']\n"
   ]
  },
  {
   "cell_type": "markdown",
   "metadata": {},
   "source": [
    "Explanation:\n",
    "`words.sort(key=len):` The `key` parameter is set to `len`, which is a built-in function that returns the length of a string. This causes the list to be sorted by the length of the strings.\n",
    "Using the `key` parameter with `sort()` gives you powerful flexibility to define custom sorting behavior based on your specific needs."
   ]
  }
 ],
 "metadata": {
  "kernelspec": {
   "display_name": "Python 3",
   "language": "python",
   "name": "python3"
  },
  "language_info": {
   "codemirror_mode": {
    "name": "ipython",
    "version": 3
   },
   "file_extension": ".py",
   "mimetype": "text/x-python",
   "name": "python",
   "nbconvert_exporter": "python",
   "pygments_lexer": "ipython3",
   "version": "3.12.4"
  }
 },
 "nbformat": 4,
 "nbformat_minor": 2
}
