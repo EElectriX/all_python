{
 "cells": [
  {
   "cell_type": "markdown",
   "metadata": {},
   "source": [
    "## 1. Global"
   ]
  },
  {
   "cell_type": "code",
   "execution_count": 6,
   "metadata": {},
   "outputs": [
    {
     "name": "stdout",
     "output_type": "stream",
     "text": [
      "100\n",
      "Primary value of x is 99\n",
      "after x declare globaly 12\n"
     ]
    }
   ],
   "source": [
    "x = 99 \n",
    "def func2(y):\n",
    "   z = x + y\n",
    "   return z\n",
    "\n",
    "result = func2(1) # storing retured value of func2 at result variable\n",
    "print(result)\n",
    "print(f\"Primary value of x is {x}\")\n",
    "\n",
    "def func3():\n",
    "  global x   # declaring the x globaly\n",
    "  x = 12\n",
    "    \n",
    "func3()\n",
    "print(f\"after x declare globaly {x}\")"
   ]
  },
  {
   "cell_type": "code",
   "execution_count": null,
   "metadata": {},
   "outputs": [],
   "source": []
  },
  {
   "cell_type": "markdown",
   "metadata": {},
   "source": [
    "## 2. Nested function"
   ]
  },
  {
   "cell_type": "code",
   "execution_count": 13,
   "metadata": {},
   "outputs": [
    {
     "name": "stdout",
     "output_type": "stream",
     "text": [
      "power of num:2 is x:4\n",
      "16\n",
      "power of num:3 is x:5\n",
      "125\n"
     ]
    }
   ],
   "source": [
    "def chaicoder(num):\n",
    "    def actual(x):\n",
    "        print (f\"power of num:{num} is x:{x}\")\n",
    "        return x ** num\n",
    "    return actual\n",
    "\n",
    "\n",
    "\n",
    "f = chaicoder(2)\n",
    "g = chaicoder(3)\n",
    "\n",
    "\n",
    "print(f(4))\n",
    "print(g(5))"
   ]
  },
  {
   "cell_type": "markdown",
   "metadata": {},
   "source": [
    "## 3. python closure\n",
    "\n",
    "A closure in Python occurs when a nested function remembers the environment in which it was created, even after the outer function has finished executing. Closures are a way to retain the state of a function."
   ]
  },
  {
   "cell_type": "code",
   "execution_count": null,
   "metadata": {},
   "outputs": [],
   "source": [
    "## 3. python closure\n"
   ]
  }
 ],
 "metadata": {
  "kernelspec": {
   "display_name": "Python 3",
   "language": "python",
   "name": "python3"
  },
  "language_info": {
   "codemirror_mode": {
    "name": "ipython",
    "version": 3
   },
   "file_extension": ".py",
   "mimetype": "text/x-python",
   "name": "python",
   "nbconvert_exporter": "python",
   "pygments_lexer": "ipython3",
   "version": "3.12.4"
  }
 },
 "nbformat": 4,
 "nbformat_minor": 2
}
